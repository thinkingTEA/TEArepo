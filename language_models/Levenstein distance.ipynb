{
 "cells": [
  {
   "cell_type": "markdown",
   "metadata": {},
   "source": [
    "### Levenstein distance\n",
    "- #### Dimitris Georgiou - DS3517004\n",
    "- #### Stratos Gounidellis - DS3517005\n",
    "- #### Natasa Farmaki - DS3517018"
   ]
  },
  {
   "cell_type": "code",
   "execution_count": 1,
   "metadata": {},
   "outputs": [
    {
     "name": "stdout",
     "output_type": "stream",
     "text": [
      "[[ 0.  1.  2.  3.  4.  5.  6.  7.]\n",
      " [ 1.  0.  1.  2.  3.  4.  5.  6.]\n",
      " [ 2.  1.  2.  3.  4.  5.  6.  7.]\n",
      " [ 3.  2.  3.  4.  3.  4.  5.  6.]\n",
      " [ 4.  3.  4.  5.  4.  5.  6.  7.]\n",
      " [ 5.  4.  5.  6.  5.  6.  7.  8.]\n",
      " [ 6.  5.  6.  7.  6.  7.  6.  7.]\n",
      " [ 7.  6.  5.  6.  7.  8.  7.  8.]\n",
      " [ 8.  7.  6.  7.  8.  9.  8.  9.]]\n"
     ]
    }
   ],
   "source": [
    "import numpy as np\n",
    "\n",
    "def levenstein_distance(word1, word2):\n",
    "    distance = np.zeros((len(word1) + 1, len(word2) + 1)) \n",
    "    distance[0, :] = np.arange(len(word2) + 1)\n",
    "    distance[:, 0] = np.arange(len(word1) + 1)\n",
    "    for i in range(len(word1)):\n",
    "        for j in range(len(word2)):\n",
    "            # edit could also be 1\n",
    "            edit = 2\n",
    "            if word1[i] == word2[j]:\n",
    "                edit = 0\n",
    "            d1 = distance[i][j + 1] + 1\n",
    "            d2 = distance[i + 1][j] + 1\n",
    "            d3 = distance[i][j] + edit\n",
    "            distance[i + 1][j + 1] = min(d1, d2, d3)\n",
    "    return distance\n",
    "\n",
    "def levenstein_distance_ext(word, vocabulary, dist):\n",
    "    words = []\n",
    "    for voc in vocabulary:\n",
    "        distance = np.zeros((len(word) + 1, len(voc) + 1)) \n",
    "        distance[0, :] = np.arange(len(voc) + 1)\n",
    "        distance[:, 0] = np.arange(len(word) + 1)\n",
    "        for i in range(len(word)):\n",
    "            for j in range(len(voc)):\n",
    "                # edit could also be 1\n",
    "                edit = 2\n",
    "                if word[i] == voc[j]:\n",
    "                    edit = 0\n",
    "                d1 = distance[i][j + 1] + 1\n",
    "                d2 = distance[i + 1][j] + 1\n",
    "                d3 = distance[i][j] + edit\n",
    "                distance[i + 1][j + 1] = min(d1, d2, d3)\n",
    "        if distance[len(word)][len(voc)] <= dist:\n",
    "            words.append(voc)\n",
    "    return words\n",
    "\n",
    "print(levenstein_distance(\"πέζοιται\", \"παίζετε\"))\n"
   ]
  }
 ],
 "metadata": {
  "kernelspec": {
   "display_name": "Python 3",
   "language": "python",
   "name": "python3"
  },
  "language_info": {
   "codemirror_mode": {
    "name": "ipython",
    "version": 3
   },
   "file_extension": ".py",
   "mimetype": "text/x-python",
   "name": "python",
   "nbconvert_exporter": "python",
   "pygments_lexer": "ipython3",
   "version": "3.6.3"
  }
 },
 "nbformat": 4,
 "nbformat_minor": 2
}
